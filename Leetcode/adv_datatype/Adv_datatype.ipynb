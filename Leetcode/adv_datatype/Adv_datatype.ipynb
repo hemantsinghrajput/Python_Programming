{
  "nbformat": 4,
  "nbformat_minor": 0,
  "metadata": {
    "colab": {
      "provenance": []
    },
    "kernelspec": {
      "name": "python3",
      "display_name": "Python 3"
    },
    "language_info": {
      "name": "python"
    }
  },
  "cells": [
    {
      "cell_type": "code",
      "execution_count": null,
      "metadata": {
        "id": "ZwO11zOnOTuF"
      },
      "outputs": [],
      "source": []
    },
    {
      "cell_type": "markdown",
      "source": [
        "Program 1"
      ],
      "metadata": {
        "id": "i6fTm-dJOatJ"
      }
    },
    {
      "cell_type": "code",
      "source": [
        "class Solution:\n",
        "    def defangIPaddr(self, address: str) -> str:\n",
        "       return address.replace(\".\",\"[.]\")"
      ],
      "metadata": {
        "id": "2xZ6s9YdOdva"
      },
      "execution_count": null,
      "outputs": []
    },
    {
      "cell_type": "markdown",
      "source": [
        "Program 2"
      ],
      "metadata": {
        "id": "uABU7-mvRq25"
      }
    },
    {
      "cell_type": "code",
      "source": [
        "nums = [str(x) for x in nums]\n",
        "    \n",
        "        ans = 0\n",
        "        for num in nums:\n",
        "            if len(num) % 2 == 0:\n",
        "                ans += 1\n",
        "                \n",
        "        return ans\n"
      ],
      "metadata": {
        "id": "dYDLo7YzRuCb"
      },
      "execution_count": null,
      "outputs": []
    },
    {
      "cell_type": "markdown",
      "source": [
        "Program 3"
      ],
      "metadata": {
        "id": "YOLyAi5QV0cq"
      }
    },
    {
      "cell_type": "code",
      "source": [
        "class Solution:\n",
        "    def numIdenticalPairs(self, nums: List[int]) -> int:\n",
        "        c=0\n",
        "        for i in range(len(nums)):\n",
        "            for j in range(i+1,len(nums)):\n",
        "                if nums[i]==nums[j] :\n",
        "                    c=c+1\n",
        "        return c"
      ],
      "metadata": {
        "id": "xfuOBzdZV2Ek"
      },
      "execution_count": null,
      "outputs": []
    },
    {
      "cell_type": "markdown",
      "source": [
        "Program 4"
      ],
      "metadata": {
        "id": "IbWgW3ZLWzzn"
      }
    },
    {
      "cell_type": "code",
      "source": [
        "class Solution:\n",
        "    def smallerNumbersThanCurrent(self, nums: List[int]) -> List[int]:\n",
        "        n=len(nums)\n",
        "        a=[]\n",
        "        for i in range(n):\n",
        "            c=0\n",
        "            for j in range(n):\n",
        "                if i!=j and nums[j]<nums[i]:\n",
        "                    c+=1\n",
        "            a.append(c)\n",
        "        return a"
      ],
      "metadata": {
        "id": "5Ed2vaJ2W1Lq"
      },
      "execution_count": null,
      "outputs": []
    },
    {
      "cell_type": "markdown",
      "source": [
        "Program 5"
      ],
      "metadata": {
        "id": "Y8dLtH7gdQDd"
      }
    },
    {
      "cell_type": "code",
      "source": [
        "class Solution:\n",
        "    def subtractProductAndSum(self, n: int) -> int:\n",
        "        li=[]\n",
        "        p=1\n",
        "        s=0\n",
        "        while(n>0):\n",
        "            li.append(n%10)\n",
        "            n=n//10\n",
        "        for i in range(len(li)):\n",
        "            p*=int(li[i])\n",
        "            s+=int(li[i])\n",
        "        return p-s"
      ],
      "metadata": {
        "id": "SlVZX0t3dRyI"
      },
      "execution_count": null,
      "outputs": []
    },
    {
      "cell_type": "markdown",
      "source": [
        "Program 6"
      ],
      "metadata": {
        "id": "gxsFzI5xeal1"
      }
    },
    {
      "cell_type": "code",
      "source": [
        "class Solution:\n",
        "    def xorOperation(self, n: int, start: int) -> int:\n",
        "        xor = 0\n",
        "        for i in range(n):\n",
        "            xor = xor ^ start\n",
        "            start+=2\n",
        "        return xor"
      ],
      "metadata": {
        "id": "MNDmFsECecNu"
      },
      "execution_count": null,
      "outputs": []
    }
  ]
}