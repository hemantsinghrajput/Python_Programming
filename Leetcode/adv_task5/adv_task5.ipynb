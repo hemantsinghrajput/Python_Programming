{
  "nbformat": 4,
  "nbformat_minor": 0,
  "metadata": {
    "colab": {
      "provenance": []
    },
    "kernelspec": {
      "name": "python3",
      "display_name": "Python 3"
    },
    "language_info": {
      "name": "python"
    }
  },
  "cells": [
    {
      "cell_type": "code",
      "execution_count": null,
      "metadata": {
        "id": "TVTjREBNcEUc"
      },
      "outputs": [],
      "source": []
    },
    {
      "cell_type": "markdown",
      "source": [
        "Program 1"
      ],
      "metadata": {
        "id": "S8Iy7VhicJOp"
      }
    },
    {
      "cell_type": "code",
      "source": [
        "class Solution:\n",
        "    def subsets(self, nums: List[int]) -> List[List[int]]:\n",
        "        ans = []\n",
        "        def subset(p, up):\n",
        "            if len(up) == 0:\n",
        "                ans.append(p)\n",
        "                return \n",
        "            ch = up[0]\n",
        "            subset(p+[ch], up[1:])\n",
        "            subset(p, up[1:])\n",
        "        subset([], nums)\n",
        "        return ans"
      ],
      "metadata": {
        "id": "omLDl9QxcLJw"
      },
      "execution_count": null,
      "outputs": []
    },
    {
      "cell_type": "markdown",
      "source": [
        "Program 2"
      ],
      "metadata": {
        "id": "1zZWqOL2cT3t"
      }
    },
    {
      "cell_type": "code",
      "source": [
        "class Solution:\n",
        "    def hammingDistance(self, x: int, y: int) -> int:\n",
        "        Xor, ans = x ^ y, 0\n",
        "        while Xor:\n",
        "            ans += Xor & 1\n",
        "            Xor >>= 1\n",
        "        return ans"
      ],
      "metadata": {
        "id": "2rR_9kekcV_D"
      },
      "execution_count": null,
      "outputs": []
    },
    {
      "cell_type": "markdown",
      "source": [
        "Program 3"
      ],
      "metadata": {
        "id": "3vQZDeMCekUz"
      }
    },
    {
      "cell_type": "code",
      "source": [
        "class Solution:\n",
        "    def singleNumber(self, nums: List[int]) -> int:\n",
        "        a=nums[0]\n",
        "        dc=defaultdict(lambda:0)\n",
        "        for i in nums:\n",
        "            dc[i]+=1\n",
        "        for j in dc:\n",
        "            if(dc[j]==1):\n",
        "                return j"
      ],
      "metadata": {
        "id": "ZpRAPE7rel6_"
      },
      "execution_count": null,
      "outputs": []
    }
  ]
}