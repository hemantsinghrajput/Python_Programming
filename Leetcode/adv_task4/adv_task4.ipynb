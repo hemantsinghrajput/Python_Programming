{
  "nbformat": 4,
  "nbformat_minor": 0,
  "metadata": {
    "colab": {
      "provenance": []
    },
    "kernelspec": {
      "name": "python3",
      "display_name": "Python 3"
    },
    "language_info": {
      "name": "python"
    }
  },
  "cells": [
    {
      "cell_type": "code",
      "execution_count": null,
      "metadata": {
        "id": "uZQwOc6isoSL"
      },
      "outputs": [],
      "source": []
    },
    {
      "cell_type": "markdown",
      "source": [
        "Program 1"
      ],
      "metadata": {
        "id": "MTLUfaXCswBL"
      }
    },
    {
      "cell_type": "code",
      "source": [
        "class Solution:\n",
        "    def singleNumber(self, nums: List[int]) -> int:\n",
        "        a=nums[0]\n",
        "        for i in range(1,len(nums)):\n",
        "            a = a ^ nums[i]\n",
        "\n",
        "        return a\n",
        "\n",
        "            "
      ],
      "metadata": {
        "id": "CKvbPY5SsxR6"
      },
      "execution_count": null,
      "outputs": []
    },
    {
      "cell_type": "markdown",
      "source": [
        "Program 2"
      ],
      "metadata": {
        "id": "2jpHckyrHj3n"
      }
    },
    {
      "cell_type": "code",
      "source": [
        "class Solution:\n",
        "    def sortByBits(self, arr: List[int]) -> List[int]:\n",
        "        return sorted(sorted(arr), key=lambda x: bin(x).count('1'))\n",
        "        \n"
      ],
      "metadata": {
        "id": "aX91U_ryHlxo"
      },
      "execution_count": null,
      "outputs": []
    },
    {
      "cell_type": "markdown",
      "source": [
        "Program 3"
      ],
      "metadata": {
        "id": "7ls-W2C-MdKu"
      }
    },
    {
      "cell_type": "code",
      "source": [
        "class Solution:\n",
        "    def singleNumber(self, nums: List[int]) -> List[int]:\n",
        "        dc=defaultdict(lambda:0)\n",
        "        for a in nums:\n",
        "            dc[a]+=1\n",
        "        li=[]\n",
        "        for i in dc:\n",
        "            if(dc[i]==1):\n",
        "                li.append(i)\n",
        "        return li\n"
      ],
      "metadata": {
        "id": "0MkgB7wwMe7M"
      },
      "execution_count": null,
      "outputs": []
    },
    {
      "cell_type": "markdown",
      "source": [
        "Proram 4"
      ],
      "metadata": {
        "id": "pvBBtFNAPUyC"
      }
    },
    {
      "cell_type": "code",
      "source": [
        "class Solution:\n",
        "    def subsets(self, nums: List[int]) -> List[List[int]]:\n",
        "        ans = []\n",
        "        def subset(p, up):\n",
        "            if len(up) == 0:\n",
        "                ans.append(p)\n",
        "                return \n",
        "            ch = up[0]\n",
        "            subset(p+[ch], up[1:])\n",
        "            subset(p, up[1:])\n",
        "        subset([], nums)\n",
        "        return ans"
      ],
      "metadata": {
        "id": "PibMtFLGPWcR"
      },
      "execution_count": null,
      "outputs": []
    }
  ]
}