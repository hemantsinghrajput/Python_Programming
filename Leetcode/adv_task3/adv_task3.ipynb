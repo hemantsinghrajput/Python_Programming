{
  "nbformat": 4,
  "nbformat_minor": 0,
  "metadata": {
    "colab": {
      "provenance": []
    },
    "kernelspec": {
      "name": "python3",
      "display_name": "Python 3"
    },
    "language_info": {
      "name": "python"
    }
  },
  "cells": [
    {
      "cell_type": "code",
      "execution_count": null,
      "metadata": {
        "id": "SN5c8TA2JYCh"
      },
      "outputs": [],
      "source": []
    },
    {
      "cell_type": "markdown",
      "source": [
        "Program 1"
      ],
      "metadata": {
        "id": "HRqjqSB5JbA6"
      }
    },
    {
      "cell_type": "code",
      "source": [
        "class Solution:\n",
        "    def maxProduct(self, nums: List[int]) -> int:\n",
        "        nums.sort()\n",
        "        return (nums[-1]-1)*(nums[-2]-1)"
      ],
      "metadata": {
        "id": "vcTia1M5JgoH"
      },
      "execution_count": null,
      "outputs": []
    },
    {
      "cell_type": "markdown",
      "source": [
        "Program 2"
      ],
      "metadata": {
        "id": "lo1bUbquKQEC"
      }
    },
    {
      "cell_type": "code",
      "source": [
        "class Solution:\n",
        "    def numTeams(self, rating: List[int]) -> int:\n",
        "        if len(rating)<3: \n",
        "            return 0\n",
        "        greater = defaultdict(int)\n",
        "        lesser = defaultdict(int)\n",
        "        for i in range(len(rating)-1):\n",
        "            for j in range(i+1, len(rating)):\n",
        "                if rating[i] < rating[j]:\n",
        "                    greater[i] += 1\n",
        "                else:\n",
        "                    lesser[i] += 1\n",
        "        ans = 0\n",
        "        print(greater, lesser)\n",
        "        for i in range(len(rating)-2):\n",
        "            for j in range(i+1, len(rating)):\n",
        "                if rating[i] < rating[j]:\n",
        "                    ans+=greater[j]\n",
        "                else:\n",
        "                    ans+=lesser[j]\n",
        "        return ans"
      ],
      "metadata": {
        "id": "6sO42o6rKRhi"
      },
      "execution_count": null,
      "outputs": []
    },
    {
      "cell_type": "markdown",
      "source": [
        "Program 3"
      ],
      "metadata": {
        "id": "-XjdjxO0NLax"
      }
    },
    {
      "cell_type": "code",
      "source": [
        "class Solution:\n",
        "    def busyStudent(self, startTime: List[int], endTime: List[int], queryTime: int) -> int:\n",
        "        c=0\n",
        "        for i in range(len(startTime)):\n",
        "            if((max(startTime[i],endTime[i]) >= queryTime) and (startTime[i] <= queryTime)):\n",
        "                c=c+1\n",
        "\n",
        "        return c"
      ],
      "metadata": {
        "id": "L9KSLcMINWdU"
      },
      "execution_count": null,
      "outputs": []
    },
    {
      "cell_type": "markdown",
      "source": [
        "Program 4"
      ],
      "metadata": {
        "id": "ZmHIZLcAg2oS"
      }
    },
    {
      "cell_type": "code",
      "source": [
        "class Solution:\n",
        "    def numberOfSteps(self, num: int) -> int:\n",
        "       \n",
        "        steps = 0\n",
        "\n",
        "        while num != 0:\n",
        "            steps += 1\n",
        "            if num & 1:\n",
        "                num -= 1\n",
        "            else:\n",
        "                num >>= 1\n",
        "\n",
        "        return steps"
      ],
      "metadata": {
        "id": "Zo2Qw5b9g5uF"
      },
      "execution_count": null,
      "outputs": []
    },
    {
      "cell_type": "markdown",
      "source": [
        "Program 5"
      ],
      "metadata": {
        "id": "qPS2QIp1l5iM"
      }
    },
    {
      "cell_type": "code",
      "source": [
        "def decimalToBinary(n):\n",
        "       return bin(n).replace(\"0b\", \"\")\n",
        "\n",
        "class Solution:\n",
        "    \n",
        "    def countBits(self, n: int) -> List[int]:\n",
        "        li=[]\n",
        "        for i in range(n+1):\n",
        "            a=decimalToBinary(i)\n",
        "            a=str(a)\n",
        "            j=0\n",
        "            sum=0\n",
        "            while(j<len(a)):\n",
        "                sum=sum+int(a[j])\n",
        "                j=j+1\n",
        "            li.append(sum)\n",
        "        \n",
        "        return li\n",
        "\n"
      ],
      "metadata": {
        "id": "PnDFDHhQl7iD"
      },
      "execution_count": null,
      "outputs": []
    }
  ]
}