{
  "nbformat": 4,
  "nbformat_minor": 0,
  "metadata": {
    "colab": {
      "provenance": []
    },
    "kernelspec": {
      "name": "python3",
      "display_name": "Python 3"
    },
    "language_info": {
      "name": "python"
    }
  },
  "cells": [
    {
      "cell_type": "code",
      "execution_count": null,
      "metadata": {
        "id": "RhT2abaWvhRW"
      },
      "outputs": [],
      "source": []
    },
    {
      "cell_type": "markdown",
      "source": [
        "Re split"
      ],
      "metadata": {
        "id": "zSy81l3DvkP1"
      }
    },
    {
      "cell_type": "code",
      "source": [
        "regex_pattern = r\"[,.]\"\t# Do not delete 'r'.\n",
        "\n",
        "import re\n",
        "print(\"\\n\".join(re.split(regex_pattern, input())))"
      ],
      "metadata": {
        "id": "7gY-QN0IvmGy"
      },
      "execution_count": null,
      "outputs": []
    },
    {
      "cell_type": "markdown",
      "source": [
        "RE groups group"
      ],
      "metadata": {
        "id": "Vp98B1ypxkEE"
      }
    },
    {
      "cell_type": "code",
      "source": [
        "# Enter your code here. Read input from STDIN. Print output to STDOUT\n",
        "\n",
        "import re\n",
        "\n",
        "m = re.search(r'([a-zA-Z0-9])\\1+', input()) \n",
        "print(m.group(1) if m else -1)"
      ],
      "metadata": {
        "id": "JIDGw7VFz76m"
      },
      "execution_count": null,
      "outputs": []
    },
    {
      "cell_type": "markdown",
      "source": [
        "RE findall"
      ],
      "metadata": {
        "id": "q4N336vbz8ae"
      }
    },
    {
      "cell_type": "code",
      "source": [
        "# Enter your code here. Read input from STDIN. Print output to STDOUT\n",
        "\n",
        "import re\n",
        "text = r'[aeiouAEIOU^]?[aeiouAEIOU]{2,}[^aeiouAEIOU$]'\n",
        "value = re.findall(text,input())\n",
        "if value:\n",
        "    [print(i[:-1]) for i in value]\n",
        "else:\n",
        "    print(-1)\n"
      ],
      "metadata": {
        "id": "yG48yOsm2eJ4"
      },
      "execution_count": null,
      "outputs": []
    },
    {
      "cell_type": "markdown",
      "source": [
        "Re.start() & Re.end()"
      ],
      "metadata": {
        "id": "EIXPb3KU2eqW"
      }
    },
    {
      "cell_type": "code",
      "source": [
        "# Enter your code here. Read input from STDIN. Print output to STDOUT\n",
        "import re\n",
        "s,k = input(),input()\n",
        "patter = re.compile(k)\n",
        "m=patter.search(s)\n",
        "\n",
        "if not m:\n",
        "        print((-1,-1))  \n",
        "while m:\n",
        "    print((m.start(),m.end()-1))\n",
        "    m=patter.search(s,m.start()+1)"
      ],
      "metadata": {
        "id": "4QUO452V84fS"
      },
      "execution_count": null,
      "outputs": []
    },
    {
      "cell_type": "markdown",
      "source": [
        "re sub regex"
      ],
      "metadata": {
        "id": "E1nZpw__-G5-"
      }
    },
    {
      "cell_type": "code",
      "source": [
        "# Enter your code here. Read input from STDIN. Print output to STDOUT\n",
        "\n",
        "import re\n",
        "\n",
        "repl = lambda x: x.group().replace('&&', 'and').replace('||', 'or')\n",
        "for _ in range(int(input())):\n",
        "    print(re.sub(r'(?<= )\\&\\& |(?<= )\\|\\| ', repl, input()))"
      ],
      "metadata": {
        "id": "O9vc-j9e-1-r"
      },
      "execution_count": null,
      "outputs": []
    },
    {
      "cell_type": "markdown",
      "source": [
        "validate roman"
      ],
      "metadata": {
        "id": "YotqZM9C-2jG"
      }
    },
    {
      "cell_type": "code",
      "source": [
        "regex_pattern = r\"^M{0,3}(CM|CD|D?C{0,3})(XC|XL|L?X{0,3})(IX|IV|V?I{0,3})$\"\t# Do not delete 'r'.\n",
        "\n",
        "import re\n",
        "print(str(bool(re.match(regex_pattern, input()))))"
      ],
      "metadata": {
        "id": "axs2UAP-AVus"
      },
      "execution_count": null,
      "outputs": []
    },
    {
      "cell_type": "markdown",
      "source": [
        "vaLIdate phone no"
      ],
      "metadata": {
        "id": "0AaRRnXUAgd7"
      }
    },
    {
      "cell_type": "code",
      "source": [
        "# Enter your code here. Read input from STDIN. Print output to STDOUT\n",
        "\n",
        "import re\n",
        "\n",
        "for _ in range(int(input())):\n",
        "    print('YES' if re.match(r'^[7-9]\\d{9}$', input()) else 'NO')"
      ],
      "metadata": {
        "id": "f-zGwLlRBDVz"
      },
      "execution_count": null,
      "outputs": []
    },
    {
      "cell_type": "markdown",
      "source": [
        "validating-named-email-addresses"
      ],
      "metadata": {
        "id": "JADzNsjTBD5e"
      }
    },
    {
      "cell_type": "code",
      "source": [
        "# Enter your code here. Read input from STDIN. Print output to STDOUT\n",
        "\n",
        "import re\n",
        "\n",
        "for _ in range(int(input())):\n",
        "    s = input()\n",
        "    if re.search(r'<[a-zA-Z][\\w\\-.]+@[a-zA-Z]+\\.[a-zA-Z]{1,3}>', s):\n",
        "        print(s)"
      ],
      "metadata": {
        "id": "Tern2A8DCBrg"
      },
      "execution_count": null,
      "outputs": []
    },
    {
      "cell_type": "markdown",
      "source": [
        "hex color"
      ],
      "metadata": {
        "id": "yMhHERGzCneD"
      }
    },
    {
      "cell_type": "code",
      "source": [
        "# Enter your code here. Read input from STDIN. Print output to STDOUT\n",
        "import re\n",
        "\n",
        "expression = \".#[0-9A-Fa-f]{3,6}\"\n",
        "\n",
        "for i in range(int(input())):\n",
        "    inpt = re.findall(expression, input())\n",
        "    \n",
        "    if inpt:\n",
        "        for j in inpt:\n",
        "            print(j[1:])"
      ],
      "metadata": {
        "id": "qPx_ZBFWDusb"
      },
      "execution_count": null,
      "outputs": []
    },
    {
      "cell_type": "markdown",
      "source": [
        "html parser 1"
      ],
      "metadata": {
        "id": "xYV18e_RDveb"
      }
    },
    {
      "cell_type": "code",
      "source": [
        "# Enter your code here. Read input from STDIN. Print output to STDOUT\n",
        "\n",
        "from html.parser import HTMLParser\n",
        "class parser(HTMLParser):\n",
        "    def handle_starttag(self, tag, attrs):\n",
        "        print(\"Start : \" +tag)\n",
        "        for a in attrs:\n",
        "            if a[1] is None:\n",
        "                print(\"-> \" +a[0]+ \" > None\")\n",
        "            else:\n",
        "                print(\"-> \" +a[0]+ \" > \"+a[1])\n",
        "    def handle_endtag(self, tag):\n",
        "        print(\"End   : \" +tag)\n",
        "    def handle_startendtag(self, tag, attrs):\n",
        "        print(\"Empty : \"+tag)\n",
        "        for a in attrs:\n",
        "            if a[1] is None:\n",
        "                print(\"-> \" +a[0]+ \" > None\")\n",
        "            else:\n",
        "                print(\"-> \" +a[0]+ \" > \"+a[1])\n",
        "p = parser()\n",
        "n = int(input())\n",
        "for i in range(n):\n",
        "    p.feed(input())"
      ],
      "metadata": {
        "id": "ssbpsaU2D_io"
      },
      "execution_count": null,
      "outputs": []
    },
    {
      "cell_type": "markdown",
      "source": [
        "html parser 2"
      ],
      "metadata": {
        "id": "sWX3eDeSE7hI"
      }
    },
    {
      "cell_type": "code",
      "source": [
        "# Enter your code here. Read input from STDIN. Print output to STDOUT\n",
        "\n",
        "from html.parser import HTMLParser\n",
        "\n",
        "class MyHTMLParser(HTMLParser):\n",
        "    def handle_comment(self, data):\n",
        "        data = str(data).split('\\n')\n",
        "        if len(data)>1:\n",
        "            print('>>> Multi-line Comment', *data, sep='\\n')\n",
        "        else:\n",
        "            print('>>> Single-line Comment', data[0], sep='\\n')            \n",
        "    def handle_data(self, data):\n",
        "        data = str(data).replace('\\n', '')\n",
        "        if len(data)>0:\n",
        "            print('>>> Data', data, sep='\\n')\n",
        "\n",
        "html = \"\"       \n",
        "for _ in range(int(input())):\n",
        "    html += input().rstrip()\n",
        "    html += '\\n'\n",
        "    \n",
        "parser = MyHTMLParser()\n",
        "parser.feed(html)\n",
        "parser.close()"
      ],
      "metadata": {
        "id": "usBSQtriFMCJ"
      },
      "execution_count": null,
      "outputs": []
    },
    {
      "cell_type": "markdown",
      "source": [
        "detect html tags"
      ],
      "metadata": {
        "id": "YB3BGI4XFcN_"
      }
    },
    {
      "cell_type": "code",
      "source": [
        "# Enter your code here. Read input from STDIN. Print output to STDOUT\n",
        "\n",
        "from html.parser import HTMLParser\n",
        "\n",
        "class MyHTMLParser(HTMLParser):\n",
        "    def handle_starttag(self, tag, attrs):\n",
        "        print(tag)\n",
        "        for i in attrs:\n",
        "            print('->', i[0], '>', i[1])\n",
        "            \n",
        "parser = MyHTMLParser()\n",
        "N = int(input())\n",
        "for i in range(N):\n",
        "    parser.feed(input())"
      ],
      "metadata": {
        "id": "0qeikFlCF-aT"
      },
      "execution_count": null,
      "outputs": []
    },
    {
      "cell_type": "markdown",
      "source": [
        "valid uid"
      ],
      "metadata": {
        "id": "LnIYC23dF_Ef"
      }
    },
    {
      "cell_type": "code",
      "source": [
        "# Enter your code here. Read input from STDIN. Print output to STDOUT\n",
        "\n",
        "import re\n",
        "\n",
        "def is_valid_uid(uid):\n",
        "    return all([\n",
        "        re.search(r'[A-Z].*[A-Z]', uid),\n",
        "        re.search(r'\\d.*\\d.*\\d', uid),\n",
        "        not re.search(r'\\W', uid),\n",
        "        len(set(uid)) == 10,\n",
        "        len(uid) == 10\n",
        "    ])\n",
        "\n",
        "t = int(input().strip())\n",
        "\n",
        "for i in range(t):\n",
        "    uid = input().strip()\n",
        "    if is_valid_uid(uid):\n",
        "        print(\"Valid\")\n",
        "    else:\n",
        "        print(\"Invalid\")"
      ],
      "metadata": {
        "id": "orSrVbJ7SgMi"
      },
      "execution_count": null,
      "outputs": []
    },
    {
      "cell_type": "markdown",
      "source": [
        "validating cc no."
      ],
      "metadata": {
        "id": "jxIQxlNhSgwT"
      }
    },
    {
      "cell_type": "code",
      "source": [
        "# Enter your code here. Read input from STDIN. Print output to STDOUT\n",
        "\n",
        "for _ in range(int(input())): print('Valid' if __import__('re').match(r'^(?!.*(\\d)(-?\\1){3})[456]\\d{3}(?:-?\\d{4}){3}$', input()) else 'Invalid')\n",
        "\n"
      ],
      "metadata": {
        "id": "pnWKuPzjUOBT"
      },
      "execution_count": null,
      "outputs": []
    },
    {
      "cell_type": "markdown",
      "source": [
        "validate postalcode"
      ],
      "metadata": {
        "id": "8OfH2fSSUO4c"
      }
    },
    {
      "cell_type": "code",
      "source": [
        "regex_integer_in_range = r\"^[1-9]\\d{5}$\"\t# Do not delete 'r'.\n",
        "regex_alternating_repetitive_digit_pair = r\"(\\d)(?=\\d\\1)\"\t# Do not delete 'r'.\n",
        "\n",
        "\n",
        "import re\n",
        "P = input()\n",
        "\n",
        "print (bool(re.match(regex_integer_in_range, P)) \n",
        "and len(re.findall(regex_alternating_repetitive_digit_pair, P)) < 2)\n"
      ],
      "metadata": {
        "id": "Mb3cgdBNWZI2"
      },
      "execution_count": null,
      "outputs": []
    },
    {
      "cell_type": "markdown",
      "source": [
        "matrix-script"
      ],
      "metadata": {
        "id": "Gd6CpzgYWaPC"
      }
    },
    {
      "cell_type": "code",
      "source": [],
      "metadata": {
        "id": "8aTxsSKTdFQD"
      },
      "execution_count": null,
      "outputs": []
    },
    {
      "cell_type": "code",
      "source": [
        "#!/bin/python3\n",
        "\n",
        "import math\n",
        "import os\n",
        "import random\n",
        "import re\n",
        "import sys\n",
        "\n",
        "\n",
        "\n",
        "\n",
        "first_multiple_input = input().rstrip().split()\n",
        "\n",
        "n = int(first_multiple_input[0])\n",
        "\n",
        "m = int(first_multiple_input[1])\n",
        "\n",
        "matrix = []\n",
        "\n",
        "for _ in range(n):\n",
        "    matrix_item = input()\n",
        "    matrix.append(matrix_item)\n",
        "\n",
        "string = \"\"\n",
        "for i in range(m):\n",
        "    for j in range(n):\n",
        "        string += (matrix[j][i])\n",
        " \n",
        "string = re.sub(r\"\\b\\W+\\b\", \" \", string)\n",
        "print(string)\n"
      ],
      "metadata": {
        "id": "w1WlSNMzdFZD"
      },
      "execution_count": null,
      "outputs": []
    },
    {
      "cell_type": "markdown",
      "source": [
        "intro to regex"
      ],
      "metadata": {
        "id": "Y4dlTvridF7u"
      }
    },
    {
      "cell_type": "code",
      "source": [
        "# Enter your code here. Read input from STDIN. Print output to STDOUT\n",
        "\n",
        "import re\n",
        "\n",
        "tests = int(input())\n",
        "\n",
        "regex = re.compile(r\"^[+-]?[0-9]*\\.[0-9]+$\")\n",
        "\n",
        "for test in range(tests):\n",
        "    value = input()\n",
        "    if regex.match(value):\n",
        "        print(\"True\")\n",
        "    else:\n",
        "        print(\"False\")"
      ],
      "metadata": {
        "id": "wbXVwgYGeK8H"
      },
      "execution_count": null,
      "outputs": []
    }
  ]
}