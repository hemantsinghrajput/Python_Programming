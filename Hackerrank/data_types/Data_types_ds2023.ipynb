{
  "nbformat": 4,
  "nbformat_minor": 0,
  "metadata": {
    "colab": {
      "provenance": []
    },
    "kernelspec": {
      "name": "python3",
      "display_name": "Python 3"
    },
    "language_info": {
      "name": "python"
    }
  },
  "cells": [
    {
      "cell_type": "code",
      "execution_count": null,
      "metadata": {
        "id": "G-fuc_utfpwc"
      },
      "outputs": [],
      "source": []
    },
    {
      "cell_type": "markdown",
      "source": [
        "#Task 2\n"
      ],
      "metadata": {
        "id": "DTPUecBjf3rP"
      }
    },
    {
      "cell_type": "markdown",
      "source": [
        "Program 1 - Nested list"
      ],
      "metadata": {
        "id": "2e4CD-p6f_rd"
      }
    },
    {
      "cell_type": "code",
      "source": [
        "if __name__ == '__main__':\n",
        "    li = []\n",
        "ls = []\n",
        "for _ in range(int(input())):\n",
        "    name = input()\n",
        "    score = float(input())\n",
        "    li.append([name, score])\n",
        "    ls.append(score)\n",
        "#li being sorted by name.   \n",
        "li.sort(key= lambda x: x[0])\n",
        "\n",
        "# sorting scores to find the second to lowest \n",
        "s = set(ls)\n",
        "s = sorted(s)\n",
        "# lowest == s[0], so s[1] is the second lowest grade\n",
        "\n",
        "for name, score in li:\n",
        "    if score == s[1]:\n",
        "        print(name)\n",
        "    \n",
        "        \n"
      ],
      "metadata": {
        "id": "WWXxtA1sgDMX"
      },
      "execution_count": null,
      "outputs": []
    },
    {
      "cell_type": "markdown",
      "source": [
        "Program 2 - List"
      ],
      "metadata": {
        "id": "xSTx8Lh7nrvC"
      }
    },
    {
      "cell_type": "code",
      "source": [
        "if __name__ == '__main__':\n",
        "    N = int(input())\n",
        "    list=[]\n",
        "    for i in range(N):\n",
        "        sub = input().split()\n",
        "        if 'insert' in sub:\n",
        "            list.insert(int(sub[1]), int(sub[2]))\n",
        "        elif 'print' in sub:\n",
        "            print(list)\n",
        "        elif 'remove' in sub:\n",
        "            list.remove(int(sub[1]))\n",
        "        elif 'append' in sub:\n",
        "            list.append(int(sub[1]))\n",
        "        elif 'sort' in sub:\n",
        "            list.sort()\n",
        "        elif 'pop' in sub:\n",
        "            list.pop()\n",
        "        else:\n",
        "            list.reverse()\n",
        "    "
      ],
      "metadata": {
        "id": "08T1UWk2nvSq"
      },
      "execution_count": null,
      "outputs": []
    },
    {
      "cell_type": "markdown",
      "source": [
        "Program 3 - Tuple\n",
        "\n"
      ],
      "metadata": {
        "id": "HezBinRTqI_s"
      }
    },
    {
      "cell_type": "code",
      "source": [
        "if __name__ == '__main__':\n",
        "    n = int(input())\n",
        "    integer_list = map(int, input().split())\n",
        "    tuple_list=tuple(integer_list)\n",
        "    print(hash(tuple_list))"
      ],
      "metadata": {
        "id": "JPmUb10Era1M"
      },
      "execution_count": null,
      "outputs": []
    },
    {
      "cell_type": "markdown",
      "source": [
        "Program 4 - List Comprehentions\n",
        "\n"
      ],
      "metadata": {
        "id": "jPD78YYBrcBf"
      }
    },
    {
      "cell_type": "code",
      "source": [
        "if __name__ == '__main__':\n",
        "    x = int(input())\n",
        "    y = int(input())\n",
        "    z = int(input())\n",
        "    n = int(input())\n",
        "    li=[]\n",
        "    for i in range(0,x+1):\n",
        "        for j in range(0,y+1):\n",
        "            for k in range(0,z+1):\n",
        "                if (i+j+k != n):\n",
        "                    li.append([i,j,k])\n",
        "                    \n",
        "    print(li)\n"
      ],
      "metadata": {
        "id": "_I7Bew5stTA8"
      },
      "execution_count": null,
      "outputs": []
    },
    {
      "cell_type": "markdown",
      "source": [
        "Program 5 - Runner up\n",
        "\n",
        "```\n",
        "`# This is formatted as code`\n",
        "```\n",
        "\n"
      ],
      "metadata": {
        "id": "u0ky_xOJthv6"
      }
    },
    {
      "cell_type": "code",
      "source": [
        "if __name__ == '__main__':\n",
        "    n = int(input())\n",
        "    arr = map(int, input().split())\n",
        "    li=list(arr)\n",
        "    li=list(set(li))\n",
        "    li.sort()\n",
        "    print(li[-2])"
      ],
      "metadata": {
        "id": "TaBTRbDatutZ"
      },
      "execution_count": null,
      "outputs": []
    },
    {
      "cell_type": "markdown",
      "source": [
        "Program 6 - find the percentage"
      ],
      "metadata": {
        "id": "d9xl1rzwuwHz"
      }
    },
    {
      "cell_type": "code",
      "source": [
        "if __name__ == '__main__':\n",
        "    n = int(input())\n",
        "    student_marks = {}\n",
        "    for _ in range(n):\n",
        "        name, *line = input().split()\n",
        "        scores = list(map(float, line))\n",
        "        student_marks[name] = scores\n",
        "    query_name = input()\n",
        "    for i,j in student_marks.items():\n",
        "        if i == query_name:\n",
        "            avg = sum(j)/len(j)\n",
        "                \n",
        "    print(\"{0:.2f}\".format(avg))        \n"
      ],
      "metadata": {
        "id": "b8C0Gyd6wp8C"
      },
      "execution_count": null,
      "outputs": []
    },
    {
      "cell_type": "markdown",
      "source": [
        "Program 7 - No **idea**"
      ],
      "metadata": {
        "id": "A29GI77jwrNj"
      }
    },
    {
      "cell_type": "code",
      "source": [
        "# Enter your code here. Read input from STDIN. Print output to STDOUT\n",
        "n,m = map(int, input().split())\n",
        "l = list(map(int, input().split())) \n",
        "A = list(map(int, input().split())) \n",
        "B = list(map(int, input().split()))\n",
        "\n",
        "h = 0 \n",
        "for i in l:\n",
        "    if i in A:\n",
        "         h += 1 \n",
        "    elif i in B: \n",
        "         h -= 1\n",
        "\n",
        "print(h)"
      ],
      "metadata": {
        "id": "FlHPh4KczmCo"
      },
      "execution_count": null,
      "outputs": []
    },
    {
      "cell_type": "markdown",
      "source": [
        "Program 8 - Sym Diff"
      ],
      "metadata": {
        "id": "Wh-F6i2sznP_"
      }
    },
    {
      "cell_type": "code",
      "source": [
        "# Enter your code here. Read input from STDIN. Print output to STDOUT\n",
        "input()\n",
        "M = set(map(int, input().split()))\n",
        "input()\n",
        "N = set(map(int, input().split()))\n",
        "output = sorted(list(M.union(N).difference(M.intersection(N))))\n",
        "for item in output:\n",
        "    print(item)"
      ],
      "metadata": {
        "id": "SSuIvRZv2yXQ"
      },
      "execution_count": null,
      "outputs": []
    },
    {
      "cell_type": "markdown",
      "source": [
        "Program 9 - set add"
      ],
      "metadata": {
        "id": "N4Nj31gP2zlr"
      }
    },
    {
      "cell_type": "code",
      "source": [
        "# Enter your code here. Read input from STDIN. Print output to STDOUT\n",
        "\n",
        "n=int(input())\n",
        "s=set()\n",
        "for i in range(n):\n",
        "    s.add(input())\n",
        "print(len(s))\n",
        "    "
      ],
      "metadata": {
        "id": "7IHQpUcg4irz"
      },
      "execution_count": null,
      "outputs": []
    },
    {
      "cell_type": "markdown",
      "source": [
        "Program 10 - pop discard remove"
      ],
      "metadata": {
        "id": "Xz2llNwP4jz3"
      }
    },
    {
      "cell_type": "code",
      "source": [
        "n = int(input())\n",
        "s = set(map(int, input().split()))\n",
        "\n",
        "for _ in range(int(input())):\n",
        "    name, *args = input().split()\n",
        "    getattr(s, name)(*map(int, args))\n",
        "\n",
        "print(sum(s))"
      ],
      "metadata": {
        "colab": {
          "base_uri": "https://localhost:8080/",
          "height": 380
        },
        "id": "V4kLYPL-94VV",
        "outputId": "c84df0e0-554c-43dd-f9a2-9923ae816c92"
      },
      "execution_count": null,
      "outputs": [
        {
          "output_type": "error",
          "ename": "KeyboardInterrupt",
          "evalue": "ignored",
          "traceback": [
            "\u001b[0;31m---------------------------------------------------------------------------\u001b[0m",
            "\u001b[0;31mKeyboardInterrupt\u001b[0m                         Traceback (most recent call last)",
            "\u001b[0;32m<ipython-input-4-e6065337a32f>\u001b[0m in \u001b[0;36m<module>\u001b[0;34m\u001b[0m\n\u001b[0;32m----> 1\u001b[0;31m \u001b[0mn\u001b[0m \u001b[0;34m=\u001b[0m \u001b[0mint\u001b[0m\u001b[0;34m(\u001b[0m\u001b[0minput\u001b[0m\u001b[0;34m(\u001b[0m\u001b[0;34m)\u001b[0m\u001b[0;34m)\u001b[0m\u001b[0;34m\u001b[0m\u001b[0;34m\u001b[0m\u001b[0m\n\u001b[0m\u001b[1;32m      2\u001b[0m \u001b[0ms\u001b[0m \u001b[0;34m=\u001b[0m \u001b[0mset\u001b[0m\u001b[0;34m(\u001b[0m\u001b[0mmap\u001b[0m\u001b[0;34m(\u001b[0m\u001b[0mint\u001b[0m\u001b[0;34m,\u001b[0m \u001b[0minput\u001b[0m\u001b[0;34m(\u001b[0m\u001b[0;34m)\u001b[0m\u001b[0;34m.\u001b[0m\u001b[0msplit\u001b[0m\u001b[0;34m(\u001b[0m\u001b[0;34m)\u001b[0m\u001b[0;34m)\u001b[0m\u001b[0;34m)\u001b[0m\u001b[0;34m\u001b[0m\u001b[0;34m\u001b[0m\u001b[0m\n\u001b[1;32m      3\u001b[0m \u001b[0;34m\u001b[0m\u001b[0m\n\u001b[1;32m      4\u001b[0m \u001b[0;32mfor\u001b[0m \u001b[0m_\u001b[0m \u001b[0;32min\u001b[0m \u001b[0mrange\u001b[0m\u001b[0;34m(\u001b[0m\u001b[0mint\u001b[0m\u001b[0;34m(\u001b[0m\u001b[0minput\u001b[0m\u001b[0;34m(\u001b[0m\u001b[0;34m)\u001b[0m\u001b[0;34m)\u001b[0m\u001b[0;34m)\u001b[0m\u001b[0;34m:\u001b[0m\u001b[0;34m\u001b[0m\u001b[0;34m\u001b[0m\u001b[0m\n\u001b[1;32m      5\u001b[0m     \u001b[0mname\u001b[0m\u001b[0;34m,\u001b[0m \u001b[0;34m*\u001b[0m\u001b[0margs\u001b[0m \u001b[0;34m=\u001b[0m \u001b[0minput\u001b[0m\u001b[0;34m(\u001b[0m\u001b[0;34m)\u001b[0m\u001b[0;34m.\u001b[0m\u001b[0msplit\u001b[0m\u001b[0;34m(\u001b[0m\u001b[0;34m)\u001b[0m\u001b[0;34m\u001b[0m\u001b[0;34m\u001b[0m\u001b[0m\n",
            "\u001b[0;32m/usr/local/lib/python3.8/dist-packages/ipykernel/kernelbase.py\u001b[0m in \u001b[0;36mraw_input\u001b[0;34m(self, prompt)\u001b[0m\n\u001b[1;32m    858\u001b[0m                 \u001b[0;34m\"raw_input was called, but this frontend does not support input requests.\"\u001b[0m\u001b[0;34m\u001b[0m\u001b[0;34m\u001b[0m\u001b[0m\n\u001b[1;32m    859\u001b[0m             )\n\u001b[0;32m--> 860\u001b[0;31m         return self._input_request(str(prompt),\n\u001b[0m\u001b[1;32m    861\u001b[0m             \u001b[0mself\u001b[0m\u001b[0;34m.\u001b[0m\u001b[0m_parent_ident\u001b[0m\u001b[0;34m,\u001b[0m\u001b[0;34m\u001b[0m\u001b[0;34m\u001b[0m\u001b[0m\n\u001b[1;32m    862\u001b[0m             \u001b[0mself\u001b[0m\u001b[0;34m.\u001b[0m\u001b[0m_parent_header\u001b[0m\u001b[0;34m,\u001b[0m\u001b[0;34m\u001b[0m\u001b[0;34m\u001b[0m\u001b[0m\n",
            "\u001b[0;32m/usr/local/lib/python3.8/dist-packages/ipykernel/kernelbase.py\u001b[0m in \u001b[0;36m_input_request\u001b[0;34m(self, prompt, ident, parent, password)\u001b[0m\n\u001b[1;32m    902\u001b[0m             \u001b[0;32mexcept\u001b[0m \u001b[0mKeyboardInterrupt\u001b[0m\u001b[0;34m:\u001b[0m\u001b[0;34m\u001b[0m\u001b[0;34m\u001b[0m\u001b[0m\n\u001b[1;32m    903\u001b[0m                 \u001b[0;31m# re-raise KeyboardInterrupt, to truncate traceback\u001b[0m\u001b[0;34m\u001b[0m\u001b[0;34m\u001b[0m\u001b[0;34m\u001b[0m\u001b[0m\n\u001b[0;32m--> 904\u001b[0;31m                 \u001b[0;32mraise\u001b[0m \u001b[0mKeyboardInterrupt\u001b[0m\u001b[0;34m(\u001b[0m\u001b[0;34m\"Interrupted by user\"\u001b[0m\u001b[0;34m)\u001b[0m \u001b[0;32mfrom\u001b[0m \u001b[0;32mNone\u001b[0m\u001b[0;34m\u001b[0m\u001b[0;34m\u001b[0m\u001b[0m\n\u001b[0m\u001b[1;32m    905\u001b[0m             \u001b[0;32mexcept\u001b[0m \u001b[0mException\u001b[0m \u001b[0;32mas\u001b[0m \u001b[0me\u001b[0m\u001b[0;34m:\u001b[0m\u001b[0;34m\u001b[0m\u001b[0;34m\u001b[0m\u001b[0m\n\u001b[1;32m    906\u001b[0m                 \u001b[0mself\u001b[0m\u001b[0;34m.\u001b[0m\u001b[0mlog\u001b[0m\u001b[0;34m.\u001b[0m\u001b[0mwarning\u001b[0m\u001b[0;34m(\u001b[0m\u001b[0;34m\"Invalid Message:\"\u001b[0m\u001b[0;34m,\u001b[0m \u001b[0mexc_info\u001b[0m\u001b[0;34m=\u001b[0m\u001b[0;32mTrue\u001b[0m\u001b[0;34m)\u001b[0m\u001b[0;34m\u001b[0m\u001b[0;34m\u001b[0m\u001b[0m\n",
            "\u001b[0;31mKeyboardInterrupt\u001b[0m: Interrupted by user"
          ]
        }
      ]
    },
    {
      "cell_type": "markdown",
      "source": [
        "Program 11 - union\n"
      ],
      "metadata": {
        "id": "8etlBrvU-xgF"
      }
    },
    {
      "cell_type": "code",
      "source": [
        "# Enter your code here. Read input from STDIN. Print output to STDOUT\n",
        "\n",
        "a=int(input())\n",
        "b=set(input().split())\n",
        "c=int(input())\n",
        "d=set(input().split())\n",
        "\n",
        "e=b.union(d)\n",
        "print(len(e))"
      ],
      "metadata": {
        "id": "zN1vzRIS--mJ"
      },
      "execution_count": null,
      "outputs": []
    },
    {
      "cell_type": "markdown",
      "source": [
        "Program 12 - intersection"
      ],
      "metadata": {
        "id": "MYK56z3kAstr"
      }
    },
    {
      "cell_type": "code",
      "source": [
        "# Enter your code here. Read input from STDIN. Print output to STDOUT\n",
        "\n",
        "# Enter your code here. Read input from STDIN. Print output to STDOUT\n",
        "\n",
        "a=int(input())\n",
        "b=set(input().split())\n",
        "c=int(input())\n",
        "d=set(input().split())\n",
        "\n",
        "e=b.intersection(d)\n",
        "print(len(e))"
      ],
      "metadata": {
        "id": "pSPLqNy3BWEX"
      },
      "execution_count": null,
      "outputs": []
    },
    {
      "cell_type": "markdown",
      "source": [
        "Program 13 - set **diff**"
      ],
      "metadata": {
        "id": "ZP3WLCtABXjf"
      }
    },
    {
      "cell_type": "code",
      "source": [
        "# Enter your code here. Read input from STDIN. Print output to STDOUT\n",
        "\n",
        "a=int(input())\n",
        "b=set(input().split())\n",
        "c=int(input())\n",
        "d=set(input().split())\n",
        "\n",
        "e=b.difference(d)\n",
        "print(len(e))"
      ],
      "metadata": {
        "colab": {
          "base_uri": "https://localhost:8080/"
        },
        "id": "shoHsFihJINo",
        "outputId": "f59b185f-0a65-4558-9f23-ebff8b22750d"
      },
      "execution_count": null,
      "outputs": [
        {
          "output_type": "stream",
          "name": "stdout",
          "text": [
            "1\n",
            "2\n",
            "inside\n"
          ]
        }
      ]
    },
    {
      "cell_type": "markdown",
      "source": [
        "Program 14 - set symm diff"
      ],
      "metadata": {
        "id": "Cd6PfL1RBGKE"
      }
    },
    {
      "cell_type": "code",
      "source": [
        "# Enter your code here. Read input from STDIN. Print output to STDOUT\n",
        "\n",
        "a=int(input())\n",
        "b=set(input().split())\n",
        "c=int(input())\n",
        "d=set(input().split())\n",
        "\n",
        "e=b.symmetric_difference(d)\n",
        "print(len(e))"
      ],
      "metadata": {
        "id": "Z3XOr0ZKQgjr"
      },
      "execution_count": null,
      "outputs": []
    },
    {
      "cell_type": "markdown",
      "source": [
        "Program 15 - set mutation"
      ],
      "metadata": {
        "id": "MeUJsIS1C04u"
      }
    },
    {
      "cell_type": "code",
      "source": [
        "# Enter your code here. Read input from STDIN. Print output to STDOUT\n",
        "\n",
        "num_A = int(input())\n",
        "set_A = set(map(int, input().split()))\n",
        "num_O = int(input())\n",
        "\n",
        "set_dict = {}\n",
        "\n",
        "for i in range(num_O):\n",
        "    query = input()\n",
        "    elements = set(map(int, input().split()))\n",
        "    set_dict[query] = elements\n",
        "    \n",
        "for k, v in set_dict.items():\n",
        "        command, len_set = k.split()\n",
        "        len_set = int(len_set)\n",
        "        \n",
        "        if command == 'intersection_update':\n",
        "            set_A.intersection_update(v)\n",
        "        \n",
        "        elif command == 'update':\n",
        "            set_A.update(v)\n",
        "        \n",
        "        elif command == 'symmetric_difference_update':\n",
        "            set_A.symmetric_difference_update(v)\n",
        "        \n",
        "        elif command == 'difference_update':\n",
        "            set_A.difference_update(v)\n",
        "\n",
        "print(sum(set_A))"
      ],
      "metadata": {
        "id": "7vrr6-MJDCjq"
      },
      "execution_count": null,
      "outputs": []
    },
    {
      "cell_type": "markdown",
      "source": [
        "Program 16 - the captains *room*"
      ],
      "metadata": {
        "id": "6obd1difDanb"
      }
    },
    {
      "cell_type": "code",
      "source": [
        "k, rooms = input(), map(int, input().split())\n",
        "\n",
        "captain = []\n",
        "everyone = set()\n",
        "for room in rooms:\n",
        "    if room not in everyone:\n",
        "        everyone.add(room)\n",
        "        captain.append(room)\n",
        "    elif room in captain:\n",
        "        captain.remove(room)\n",
        "        \n",
        "print(captain[0])"
      ],
      "metadata": {
        "id": "Cs0885yNDkP7"
      },
      "execution_count": null,
      "outputs": []
    },
    {
      "cell_type": "markdown",
      "source": [
        "Program 17 - check subset"
      ],
      "metadata": {
        "id": "U4YfCpfIHLfX"
      }
    },
    {
      "cell_type": "code",
      "source": [
        "# Enter your code here. Read input from STDIN. Print output to STDOUT\n",
        "\n",
        "if __name__ == '__main__':\n",
        "    n = int(input())\n",
        "    for i in range(n):\n",
        "        subset = False\n",
        "        a = int(input())\n",
        "        A = set(map(int, input().split()))\n",
        "        b = int(input())\n",
        "        B = set(map(int, input().split()))\n",
        "        if A == B.intersection(A):\n",
        "            subset = True\n",
        "        print(subset)"
      ],
      "metadata": {
        "id": "C2S6_5ZyHXB8"
      },
      "execution_count": null,
      "outputs": []
    },
    {
      "cell_type": "markdown",
      "source": [
        "Program 18 - check strict superset"
      ],
      "metadata": {
        "id": "Tj0IYkhbIB_o"
      }
    },
    {
      "cell_type": "code",
      "source": [
        "# Enter your code here. Read input from STDIN. Print output to STDOUT\n",
        "\n",
        "A = set(map(int, input().split()))\n",
        "a = int(input())\n",
        "B = set(map(int, input().split()))\n",
        "C = set(map(int, input().split()))\n",
        "\n",
        "\n",
        "if(B==A.intersection(B) and C==A.intersection(C)):\n",
        "    print(True)\n",
        "else:\n",
        "    print(False)"
      ],
      "metadata": {
        "id": "tsDw2A4zIR4o"
      },
      "execution_count": null,
      "outputs": []
    },
    {
      "cell_type": "markdown",
      "source": [
        "Program 19 - Intro to set"
      ],
      "metadata": {
        "id": "mHO_tUdmJYyL"
      }
    },
    {
      "cell_type": "code",
      "source": [
        "def average(array):\n",
        "    # your code goes here\n",
        "    total_height = sum(set(array))\n",
        "    no_of_heights = len(set(array))\n",
        "    average_height = float(total_height/no_of_heights)\n",
        "    return \"{0:.3f}\".format(average_height)\n",
        "if __name__ == '__main__':\n",
        "    n = int(input())\n",
        "    arr = list(map(int, input().split()))\n",
        "    result = average(arr)\n",
        "    print(result)"
      ],
      "metadata": {
        "id": "G-w-hCVgJbr4"
      },
      "execution_count": null,
      "outputs": []
    }
  ]
}