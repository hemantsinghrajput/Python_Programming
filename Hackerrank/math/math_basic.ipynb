{
  "nbformat": 4,
  "nbformat_minor": 0,
  "metadata": {
    "colab": {
      "provenance": []
    },
    "kernelspec": {
      "name": "python3",
      "display_name": "Python 3"
    },
    "language_info": {
      "name": "python"
    }
  },
  "cells": [
    {
      "cell_type": "code",
      "execution_count": null,
      "metadata": {
        "id": "udvhHY3V0I4D"
      },
      "outputs": [],
      "source": []
    },
    {
      "cell_type": "markdown",
      "source": [
        "P1- polar coordinates"
      ],
      "metadata": {
        "id": "-5lKjHhA0rl_"
      }
    },
    {
      "cell_type": "code",
      "source": [
        "# Enter your code here. Read input from STDIN. Print output to STDOUT\n",
        "\n",
        "import cmath\n",
        "\n",
        "z = complex(input())\n",
        "print(abs(z))\n",
        "print(cmath.phase(z))\n"
      ],
      "metadata": {
        "id": "PDCWPoJC0tBT"
      },
      "execution_count": null,
      "outputs": []
    },
    {
      "cell_type": "markdown",
      "source": [
        "P2- triangle quest\n"
      ],
      "metadata": {
        "id": "PwBLjaqu1FWQ"
      }
    },
    {
      "cell_type": "code",
      "source": [
        "for i in range(1,int(input())):\n",
        "    print((pow(10, i)//9)*i)\n"
      ],
      "metadata": {
        "id": "dlvnJ21v1GV1"
      },
      "execution_count": null,
      "outputs": []
    },
    {
      "cell_type": "markdown",
      "source": [
        "P3 - power mod power"
      ],
      "metadata": {
        "id": "0qVRTNl_2vzn"
      }
    },
    {
      "cell_type": "code",
      "source": [
        "# Enter your code here. Read input from STDIN. Print output to STDOUT\n",
        "a=int(input())\n",
        "b=int(input())\n",
        "m=int(input())\n",
        "print(pow(a,b))\n",
        "print(pow(a,b,m))"
      ],
      "metadata": {
        "id": "l7ohJzQF21rV"
      },
      "execution_count": null,
      "outputs": []
    },
    {
      "cell_type": "markdown",
      "source": [
        "integers come in all size"
      ],
      "metadata": {
        "id": "SKsSBBfi3x2r"
      }
    },
    {
      "cell_type": "code",
      "source": [
        "# Enter your code here. Read input from STDIN. Print output to STDOUT\n",
        "\n",
        "a=int(input())\n",
        "b=int(input())\n",
        "c=int(input())\n",
        "d=int(input())\n",
        "\n",
        "print(a**b + c**d)"
      ],
      "metadata": {
        "id": "NCKZkeQ64H9n"
      },
      "execution_count": null,
      "outputs": []
    },
    {
      "cell_type": "markdown",
      "source": [
        "mod div mod"
      ],
      "metadata": {
        "id": "2Efla7mG7HsX"
      }
    },
    {
      "cell_type": "code",
      "source": [
        "# Enter your code here. Read input from STDIN. Print output to STDOUT\n",
        "\n",
        "a=int(input())\n",
        "b=int(input())\n",
        "\n",
        "a=(divmod(a,b))\n",
        "print(a[0])\n",
        "print(a[1])\n",
        "print(a)"
      ],
      "metadata": {
        "id": "T-q0QcD78bWd"
      },
      "execution_count": null,
      "outputs": []
    },
    {
      "cell_type": "markdown",
      "source": [
        "Triangle quest 2"
      ],
      "metadata": {
        "id": "wk0654io-e5Y"
      }
    },
    {
      "cell_type": "code",
      "source": [
        "for i in range(1,int(input())+1):\n",
        "    print(((10 ** i - 1) // 9) ** 2)"
      ],
      "metadata": {
        "id": "vFTXJw5b-keP"
      },
      "execution_count": null,
      "outputs": []
    },
    {
      "cell_type": "markdown",
      "source": [
        "find angle"
      ],
      "metadata": {
        "id": "IGX76-c8_oaf"
      }
    },
    {
      "cell_type": "code",
      "source": [
        "from math import atan , pi\n",
        "import math\n",
        "A = int(input())\n",
        "B = int(input())\n",
        "C = 180/pi * atan(A/B)\n",
        "print(round(C),chr(176),sep='')"
      ],
      "metadata": {
        "id": "njw7_1yqCAtp"
      },
      "execution_count": null,
      "outputs": []
    }
  ]
}