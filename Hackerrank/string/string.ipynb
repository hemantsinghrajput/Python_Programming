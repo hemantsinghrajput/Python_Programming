{
  "nbformat": 4,
  "nbformat_minor": 0,
  "metadata": {
    "colab": {
      "provenance": []
    },
    "kernelspec": {
      "name": "python3",
      "display_name": "Python 3"
    },
    "language_info": {
      "name": "python"
    }
  },
  "cells": [
    {
      "cell_type": "code",
      "execution_count": null,
      "metadata": {
        "id": "8a7XtNtQFNEl"
      },
      "outputs": [],
      "source": []
    },
    {
      "cell_type": "markdown",
      "source": [
        "split and join"
      ],
      "metadata": {
        "id": "nfMVZ8peFQFQ"
      }
    },
    {
      "cell_type": "code",
      "source": [
        "\n",
        "\n",
        "def split_and_join(line):\n",
        "    # write your code here\n",
        "    line=line.split(\" \")\n",
        "    line=\"-\".join(line)\n",
        "    return line\n",
        "\n",
        "if __name__ == '__main__':\n",
        "    line = input()\n",
        "    result = split_and_join(line)\n",
        "    print(result)"
      ],
      "metadata": {
        "id": "osLa1QT6FaGh"
      },
      "execution_count": null,
      "outputs": []
    },
    {
      "cell_type": "markdown",
      "source": [
        "name"
      ],
      "metadata": {
        "id": "TXBsJOjCGYh3"
      }
    },
    {
      "cell_type": "code",
      "source": [
        "#\n",
        "# Complete the 'print_full_name' function below.\n",
        "#\n",
        "# The function is expected to return a STRING.\n",
        "# The function accepts following parameters:\n",
        "#  1. STRING first\n",
        "#  2. STRING last\n",
        "#\n",
        "\n",
        "def print_full_name(first, last):\n",
        "    # Write your code here\n",
        "    print(f\"Hello {first} {last}! You just delved into python.\")\n",
        "\n",
        "if __name__ == '__main__':"
      ],
      "metadata": {
        "id": "166nxJuSHElW"
      },
      "execution_count": null,
      "outputs": []
    },
    {
      "cell_type": "markdown",
      "source": [
        "Mutation"
      ],
      "metadata": {
        "id": "lMLnW9HAHFWD"
      }
    },
    {
      "cell_type": "code",
      "source": [
        "def mutate_string(string, position, character):\n",
        "    l=list(string)\n",
        "    l[position]=character\n",
        "    string = \"\".join(l)\n",
        "    return string\n",
        "\n",
        "if __name__ == '__main__':"
      ],
      "metadata": {
        "id": "N4qLcNdrIx_Y"
      },
      "execution_count": null,
      "outputs": []
    },
    {
      "cell_type": "markdown",
      "source": [
        "find a string"
      ],
      "metadata": {
        "id": "SokbbwDhIynf"
      }
    },
    {
      "cell_type": "code",
      "source": [
        "def count_substring(string, sub_string):\n",
        "    occurances = []\n",
        "    for i in range(len(string)):\n",
        "        if string.find(sub_string,i) == i:\n",
        "            occurances.append(i)\n",
        "    return len(occurances)\n",
        "\n",
        "if __name__ == '__main__':\n",
        "    string = input().strip()\n",
        "    sub_string = input().strip()\n",
        "    \n",
        "    count = count_substring(string, sub_string)\n",
        "    print(count)"
      ],
      "metadata": {
        "id": "-xuj3fehKE3E"
      },
      "execution_count": null,
      "outputs": []
    },
    {
      "cell_type": "markdown",
      "source": [
        "string validator"
      ],
      "metadata": {
        "id": "IYPCdXwzKHD9"
      }
    },
    {
      "cell_type": "code",
      "source": [
        "if __name__ == '__main__':\n",
        "    s = input()\n",
        "    print(any(i.isalnum() for i in s))\n",
        "    print(any(i.isalpha() for i in s))\n",
        "    print(any(i.isdigit() for i in s))\n",
        "    print(any(i.islower() for i in s))\n",
        "    print(any(i.isupper() for i in s))"
      ],
      "metadata": {
        "id": "HlM7bUxSKdN3"
      },
      "execution_count": null,
      "outputs": []
    },
    {
      "cell_type": "markdown",
      "source": [
        "text-alignment"
      ],
      "metadata": {
        "id": "zMtfk4vfKf6r"
      }
    },
    {
      "cell_type": "code",
      "source": [
        "# Enter your code here. Read input from STDIN. Print output to STDOUT\n",
        "\n",
        "def createTriangle(thickness):\n",
        "    flag = 1\n",
        "    width = thickness - 1\n",
        "    totalW = width + thickness\n",
        "    array = []\n",
        "    for i in range(0, thickness):\n",
        "        array.append(('H'*flag).center(totalW))\n",
        "        flag+=2\n",
        "        \n",
        "    return array\n",
        "\n",
        "def triangle(thickness):\n",
        "    array = createTriangle(thickness)\n",
        "    for i in range(len(array)):\n",
        "        print(array[i])\n",
        "    \n",
        "\n",
        "def reversedTriangle(thickness):\n",
        "    array = createTriangle(thickness)\n",
        "    for i in range(len(array)):\n",
        "        print((array[::-1][i]).rjust(thickness*6-1))\n",
        "\n",
        "        \n",
        "def logo(thickness):\n",
        "    \n",
        "    #Up side of the H\n",
        "    for i in range(thickness+1):\n",
        "     print(('H'*thickness).center(thickness*2)+('H'*thickness).center(thickness*6))  \n",
        "    \n",
        "    #Center of the H\n",
        "    for i in range(int((thickness+1)/2)):\n",
        "        print(('H'*thickness*5).center(thickness*6))\n",
        "     \n",
        "    #Down side of the H\n",
        "    for i in range(thickness+1):\n",
        "     print(('H'*thickness).center(thickness*2)+('H'*thickness).center(thickness*6)) \n",
        "   \n",
        "  \n",
        "def printAll(thickness):\n",
        "    triangle(thickness)\n",
        "    logo(thickness)\n",
        "    reversedTriangle(thickness)\n",
        "  \n",
        "thickness = int(input())\n",
        "printAll(thickness)\n"
      ],
      "metadata": {
        "id": "x9kHeimXKqeP"
      },
      "execution_count": null,
      "outputs": []
    },
    {
      "cell_type": "markdown",
      "source": [
        "text wrap"
      ],
      "metadata": {
        "id": "MDQrEWPSLa-J"
      }
    },
    {
      "cell_type": "code",
      "source": [
        "import textwrap\n",
        "\n",
        "def wrap(string, max_width):\n",
        "    return textwrap.fill(string,max_width)\n",
        "\n",
        "if __name__ == '__main__':\n",
        "    string, max_width = input(), int(input())\n",
        "    result = wrap(string, max_width)\n",
        "    print(result)"
      ],
      "metadata": {
        "id": "ZuRJw2FgLh_M"
      },
      "execution_count": null,
      "outputs": []
    },
    {
      "cell_type": "markdown",
      "source": [
        "door-mat"
      ],
      "metadata": {
        "id": "henR9q5QLxNs"
      }
    },
    {
      "cell_type": "code",
      "source": [
        "# Enter your code here. Read input from STDIN. Print output to STDOUT\n",
        "\n",
        "N, M = map(int,input().split())\n",
        " \n",
        "for i in range(1,N,2):\n",
        "    print((i * \".|.\").center(M, \"-\"))\n",
        "\n",
        "print(\"WELCOME\".center(M, \"-\"))\n",
        "\n",
        " \n",
        "for i in range(N-2,-1,-2):\n",
        "    print((i * \".|.\").center(M, \"-\"))"
      ],
      "metadata": {
        "id": "4k0HKeQoNGjw"
      },
      "execution_count": null,
      "outputs": []
    },
    {
      "cell_type": "markdown",
      "source": [
        "String formating"
      ],
      "metadata": {
        "id": "kXrqtimmNHs6"
      }
    },
    {
      "cell_type": "code",
      "source": [
        "def print_formatted(number):\n",
        "    # your code goes here\n",
        "    width = len(format(number, 'b'))\n",
        "    \n",
        "    for i in range(1, number + 1, 1):\n",
        "        dec = str(i).rjust(width,' ')\n",
        "        oct = format(i, \"o\").rjust(width, ' ')\n",
        "        hex = format(i, \"X\").rjust(width, ' ')\n",
        "        bin = format(i, 'b').rjust(width, ' ')\n",
        "        \n",
        "        print(f\"{dec} {oct} {hex} {bin}\")\n",
        "    \n",
        "\n",
        "if __name__ == '__main__':\n",
        "    n = int(input())\n",
        "    print_formatted(n)"
      ],
      "metadata": {
        "id": "78vssCxgOSK3"
      },
      "execution_count": null,
      "outputs": []
    },
    {
      "cell_type": "markdown",
      "source": [
        "alphabet rangoli"
      ],
      "metadata": {
        "id": "o3UiYYXjP8K7"
      }
    },
    {
      "cell_type": "code",
      "source": [
        "import string\n",
        "def print_rangoli(size):\n",
        "    # your code goes here\n",
        "    letters = string.ascii_lowercase[:size]\n",
        "    width = 4 * size - 3\n",
        "    \n",
        "    for i in range(size-1,0,-1):\n",
        "        line = '-'.join(letters[size - 1: i: -1] + letters[i: size])\n",
        "        print(line.center(width, '-'))\n",
        "    for i in range(size):\n",
        "        line = '-'.join(letters[size - 1: i: -1] + letters[i: size])\n",
        "        print(line.center(width, '-'))\n",
        "\n",
        "if __name__ == '__main__':\n",
        "    n = int(input())\n",
        "    print_rangoli(n)"
      ],
      "metadata": {
        "id": "PQsG4oAjQIMi"
      },
      "execution_count": null,
      "outputs": []
    },
    {
      "cell_type": "markdown",
      "source": [
        "capitalize"
      ],
      "metadata": {
        "id": "nDGCA6XfQqh0"
      }
    },
    {
      "cell_type": "code",
      "source": [
        "def solve(s):\n",
        "    c= \"\"\n",
        "    for i in range(0,len(s)):\n",
        "        if i == 0:\n",
        "            c = c + (s[i].upper())\n",
        "        elif s[i-1] == \" \":\n",
        "            c = c + (s[i].upper())\n",
        "        else:\n",
        "            c = c + s[i]\n",
        "    return c"
      ],
      "metadata": {
        "id": "fJh0Iz5_QxcB"
      },
      "execution_count": null,
      "outputs": []
    },
    {
      "cell_type": "markdown",
      "source": [
        "the minion game"
      ],
      "metadata": {
        "id": "ltCEUIjDRBuT"
      }
    },
    {
      "cell_type": "code",
      "source": [
        "vowels = 'AEIOU'\n",
        "\n",
        "def minion_game(string):\n",
        "    kevin = 0\n",
        "    n =len(string)\n",
        "    total = int((n*(n+1))/2)\n",
        "    for i in range(n):\n",
        "        if string[i] in vowels:\n",
        "            kevin = kevin + (n-i)\n",
        "    stuart = total - kevin\n",
        "    \n",
        "    if stuart == kevin:\n",
        "        print ('Draw')\n",
        "    elif stuart > kevin:\n",
        "        print(f'Stuart {stuart}')\n",
        "    else:\n",
        "        print(f'Kevin {kevin}')\n",
        "    \n",
        "\n",
        "if __name__ == '__main__':"
      ],
      "metadata": {
        "id": "rzDPUctpR9CI"
      },
      "execution_count": null,
      "outputs": []
    },
    {
      "cell_type": "markdown",
      "source": [
        "merge the tools"
      ],
      "metadata": {
        "id": "z3yPjAIDR0Gu"
      }
    },
    {
      "cell_type": "code",
      "source": [
        "def merge_the_tools(string, k):\n",
        "    # your code goes here\n",
        "    for i in range(0,len(string),k) :\n",
        "        print(\"\".join(set(string[i: i+k])))\n",
        "    \n",
        "\n"
      ],
      "metadata": {
        "id": "GMO10stJSkuq"
      },
      "execution_count": null,
      "outputs": []
    },
    {
      "cell_type": "markdown",
      "source": [
        "swap string"
      ],
      "metadata": {
        "id": "vkQQ4ycCSvsB"
      }
    },
    {
      "cell_type": "code",
      "source": [
        "def swap_case(s):\n",
        "    result = \"\"\n",
        "    for c in s:\n",
        "        if c.isupper():\n",
        "            result += c.lower()\n",
        "        elif c.islower():\n",
        "            result += c.upper()\n",
        "        else:\n",
        "            result += c\n",
        "    return result"
      ],
      "metadata": {
        "id": "VMrXiLH8TTba"
      },
      "execution_count": null,
      "outputs": []
    }
  ]
}